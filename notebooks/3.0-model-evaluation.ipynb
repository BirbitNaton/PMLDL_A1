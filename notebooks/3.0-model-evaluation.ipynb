{
 "cells": [
  {
   "cell_type": "code",
   "execution_count": 68,
   "metadata": {},
   "outputs": [
    {
     "name": "stdout",
     "output_type": "stream",
     "text": [
      "INFO: Pandarallel will run on 8 workers.\n",
      "INFO: Pandarallel will use standard multiprocessing data transfer (pipe) to transfer data between the main process and workers.\n",
      "\n",
      "WARNING: You are on Windows. If you detect any issue with pandarallel, be sure you checked out the Troubleshooting page:\n",
      "https://nalepae.github.io/pandarallel/troubleshooting/\n"
     ]
    },
    {
     "data": {
      "text/plain": [
       "True"
      ]
     },
     "execution_count": 68,
     "metadata": {},
     "output_type": "execute_result"
    }
   ],
   "source": [
    "import logging\n",
    "import pandas as pd\n",
    "from simpletransformers.seq2seq import Seq2SeqModel, Seq2SeqArgs\n",
    "from pandarallel import pandarallel\n",
    "pandarallel.initialize(progress_bar=True)\n",
    "import warnings\n",
    "from transformers import AutoModelForSequenceClassification, AutoTokenizer, \\\n",
    "    RobertaTokenizer, RobertaForSequenceClassification\n",
    "import evaluate\n",
    "from tqdm.auto import tqdm\n",
    "import torch\n",
    "import numpy as np\n",
    "from sklearn.metrics import mean_squared_error\n",
    "from pathlib import Path\n",
    "\n",
    "warnings.filterwarnings(\"ignore\")\n",
    "data_dir = Path(\"../data/interim\")\n",
    "models_dir = Path(\"../models\")\n",
    "\n",
    "model_path = models_dir / \"bart-paraphrase-retrained\"\n",
    "dataset_path = data_dir / \"formatted.parquet\"\n",
    "pred_1percent_path = data_dir / \"pred_1percent.txt\"\n",
    "true_1percent_path = data_dir / \"true_1percent.txt\"\n",
    "target_1percent_path = data_dir / \"target_1percent.txt\"\n",
    "stats_path = data_dir / \"eval_stats.parquet\""
   ]
  },
  {
   "cell_type": "code",
   "execution_count": 66,
   "metadata": {},
   "outputs": [
    {
     "data": {
      "application/vnd.jupyter.widget-view+json": {
       "model_id": "2241ba677aa24dcf95f0cc618dd4e3c3",
       "version_major": 2,
       "version_minor": 0
      },
      "text/plain": [
       "VBox(children=(HBox(children=(IntProgress(value=0, description='0.00%', max=527), Label(value='0 / 527'))), HB…"
      ]
     },
     "metadata": {},
     "output_type": "display_data"
    },
    {
     "data": {
      "application/vnd.jupyter.widget-view+json": {
       "model_id": "8659790b6b25473b9ebfdb95fcd9beb0",
       "version_major": 2,
       "version_minor": 0
      },
      "text/plain": [
       "VBox(children=(HBox(children=(IntProgress(value=0, description='0.00%', max=527), Label(value='0 / 527'))), HB…"
      ]
     },
     "metadata": {},
     "output_type": "display_data"
    },
    {
     "data": {
      "text/html": [
       "<div>\n",
       "<style scoped>\n",
       "    .dataframe tbody tr th:only-of-type {\n",
       "        vertical-align: middle;\n",
       "    }\n",
       "\n",
       "    .dataframe tbody tr th {\n",
       "        vertical-align: top;\n",
       "    }\n",
       "\n",
       "    .dataframe thead th {\n",
       "        text-align: right;\n",
       "    }\n",
       "</style>\n",
       "<table border=\"1\" class=\"dataframe\">\n",
       "  <thead>\n",
       "    <tr style=\"text-align: right;\">\n",
       "      <th></th>\n",
       "      <th>Unnamed: 0</th>\n",
       "      <th>reference</th>\n",
       "      <th>translation</th>\n",
       "      <th>similarity</th>\n",
       "      <th>lenght_diff</th>\n",
       "      <th>ref_tox</th>\n",
       "      <th>trn_tox</th>\n",
       "      <th>tox_diff</th>\n",
       "      <th>fit_score</th>\n",
       "    </tr>\n",
       "  </thead>\n",
       "  <tbody>\n",
       "    <tr>\n",
       "      <th>0</th>\n",
       "      <td>194059</td>\n",
       "      <td>Hands on the fucking table!</td>\n",
       "      <td>hands on the table!</td>\n",
       "      <td>0.949878</td>\n",
       "      <td>0.285714</td>\n",
       "      <td>0.999351</td>\n",
       "      <td>0.000047</td>\n",
       "      <td>0.999304</td>\n",
       "      <td>0.949216</td>\n",
       "    </tr>\n",
       "    <tr>\n",
       "      <th>1</th>\n",
       "      <td>566611</td>\n",
       "      <td>Ha ha ha... shit!</td>\n",
       "      <td>ha ha ha...</td>\n",
       "      <td>0.949609</td>\n",
       "      <td>0.333333</td>\n",
       "      <td>0.999633</td>\n",
       "      <td>0.000067</td>\n",
       "      <td>0.999566</td>\n",
       "      <td>0.949197</td>\n",
       "    </tr>\n",
       "    <tr>\n",
       "      <th>2</th>\n",
       "      <td>401254</td>\n",
       "      <td>Finally something good about this fucking dise...</td>\n",
       "      <td>finally, something good about this disease.</td>\n",
       "      <td>0.949981</td>\n",
       "      <td>0.137255</td>\n",
       "      <td>0.999520</td>\n",
       "      <td>0.000354</td>\n",
       "      <td>0.999166</td>\n",
       "      <td>0.949189</td>\n",
       "    </tr>\n",
       "    <tr>\n",
       "      <th>3</th>\n",
       "      <td>207219</td>\n",
       "      <td>a picture of a pyramid star and their fucking ...</td>\n",
       "      <td>Picture of a Pyramid star and their fracking t...</td>\n",
       "      <td>0.949892</td>\n",
       "      <td>0.016949</td>\n",
       "      <td>0.999298</td>\n",
       "      <td>0.000057</td>\n",
       "      <td>0.999241</td>\n",
       "      <td>0.949171</td>\n",
       "    </tr>\n",
       "    <tr>\n",
       "      <th>4</th>\n",
       "      <td>303258</td>\n",
       "      <td>Take your fucking shirt off.</td>\n",
       "      <td>take your shirt off.</td>\n",
       "      <td>0.949953</td>\n",
       "      <td>0.275862</td>\n",
       "      <td>0.999497</td>\n",
       "      <td>0.000344</td>\n",
       "      <td>0.999153</td>\n",
       "      <td>0.949149</td>\n",
       "    </tr>\n",
       "    <tr>\n",
       "      <th>...</th>\n",
       "      <td>...</td>\n",
       "      <td>...</td>\n",
       "      <td>...</td>\n",
       "      <td>...</td>\n",
       "      <td>...</td>\n",
       "      <td>...</td>\n",
       "      <td>...</td>\n",
       "      <td>...</td>\n",
       "      <td>...</td>\n",
       "    </tr>\n",
       "    <tr>\n",
       "      <th>421194</th>\n",
       "      <td>152609</td>\n",
       "      <td>\"that's ridiculous.</td>\n",
       "      <td>\"What nonsense.</td>\n",
       "      <td>0.672100</td>\n",
       "      <td>0.200000</td>\n",
       "      <td>0.958383</td>\n",
       "      <td>0.055636</td>\n",
       "      <td>0.902747</td>\n",
       "      <td>0.606737</td>\n",
       "    </tr>\n",
       "    <tr>\n",
       "      <th>421195</th>\n",
       "      <td>535700</td>\n",
       "      <td>Man, they knew you were gonna rat.</td>\n",
       "      <td>they knew you'd pop them.</td>\n",
       "      <td>0.621585</td>\n",
       "      <td>0.257143</td>\n",
       "      <td>0.981446</td>\n",
       "      <td>0.005334</td>\n",
       "      <td>0.976112</td>\n",
       "      <td>0.606737</td>\n",
       "    </tr>\n",
       "    <tr>\n",
       "      <th>421196</th>\n",
       "      <td>67923</td>\n",
       "      <td>He shot me in the gut.</td>\n",
       "      <td>I bought it in the gut.</td>\n",
       "      <td>0.676464</td>\n",
       "      <td>0.041667</td>\n",
       "      <td>0.906674</td>\n",
       "      <td>0.009752</td>\n",
       "      <td>0.896922</td>\n",
       "      <td>0.606736</td>\n",
       "    </tr>\n",
       "    <tr>\n",
       "      <th>421197</th>\n",
       "      <td>224099</td>\n",
       "      <td>I'll sic my dog on you.</td>\n",
       "      <td>I'll send a dog.</td>\n",
       "      <td>0.628412</td>\n",
       "      <td>0.291667</td>\n",
       "      <td>0.967344</td>\n",
       "      <td>0.001839</td>\n",
       "      <td>0.965505</td>\n",
       "      <td>0.606735</td>\n",
       "    </tr>\n",
       "    <tr>\n",
       "      <th>421198</th>\n",
       "      <td>517154</td>\n",
       "      <td>and those bastards are nasty!</td>\n",
       "      <td>And the cans are disgusting!</td>\n",
       "      <td>0.621703</td>\n",
       "      <td>0.033333</td>\n",
       "      <td>0.999660</td>\n",
       "      <td>0.023735</td>\n",
       "      <td>0.975925</td>\n",
       "      <td>0.606735</td>\n",
       "    </tr>\n",
       "  </tbody>\n",
       "</table>\n",
       "<p>421199 rows × 9 columns</p>\n",
       "</div>"
      ],
      "text/plain": [
       "        Unnamed: 0                                          reference  \\\n",
       "0           194059                        Hands on the fucking table!   \n",
       "1           566611                                  Ha ha ha... shit!   \n",
       "2           401254  Finally something good about this fucking dise...   \n",
       "3           207219  a picture of a pyramid star and their fucking ...   \n",
       "4           303258                       Take your fucking shirt off.   \n",
       "...            ...                                                ...   \n",
       "421194      152609                                \"that's ridiculous.   \n",
       "421195      535700                 Man, they knew you were gonna rat.   \n",
       "421196       67923                             He shot me in the gut.   \n",
       "421197      224099                            I'll sic my dog on you.   \n",
       "421198      517154                      and those bastards are nasty!   \n",
       "\n",
       "                                              translation  similarity  \\\n",
       "0                                     hands on the table!    0.949878   \n",
       "1                                             ha ha ha...    0.949609   \n",
       "2             finally, something good about this disease.    0.949981   \n",
       "3       Picture of a Pyramid star and their fracking t...    0.949892   \n",
       "4                                    take your shirt off.    0.949953   \n",
       "...                                                   ...         ...   \n",
       "421194                                    \"What nonsense.    0.672100   \n",
       "421195                          they knew you'd pop them.    0.621585   \n",
       "421196                            I bought it in the gut.    0.676464   \n",
       "421197                                   I'll send a dog.    0.628412   \n",
       "421198                       And the cans are disgusting!    0.621703   \n",
       "\n",
       "        lenght_diff   ref_tox   trn_tox  tox_diff  fit_score  \n",
       "0          0.285714  0.999351  0.000047  0.999304   0.949216  \n",
       "1          0.333333  0.999633  0.000067  0.999566   0.949197  \n",
       "2          0.137255  0.999520  0.000354  0.999166   0.949189  \n",
       "3          0.016949  0.999298  0.000057  0.999241   0.949171  \n",
       "4          0.275862  0.999497  0.000344  0.999153   0.949149  \n",
       "...             ...       ...       ...       ...        ...  \n",
       "421194     0.200000  0.958383  0.055636  0.902747   0.606737  \n",
       "421195     0.257143  0.981446  0.005334  0.976112   0.606737  \n",
       "421196     0.041667  0.906674  0.009752  0.896922   0.606736  \n",
       "421197     0.291667  0.967344  0.001839  0.965505   0.606735  \n",
       "421198     0.033333  0.999660  0.023735  0.975925   0.606735  \n",
       "\n",
       "[421199 rows x 9 columns]"
      ]
     },
     "execution_count": 66,
     "metadata": {},
     "output_type": "execute_result"
    }
   ],
   "source": [
    "df = pd.read_parquet(dataset_path)\n",
    "index = df.sample(frac=0.01, random_state=42).index\n",
    "to_predict = df[\"reference\"][index].parallel_apply(lambda x: x.lower()).tolist()\n",
    "target = df[\"translation\"][index].parallel_apply(lambda x: x.lower()).tolist()\n",
    "df"
   ]
  },
  {
   "cell_type": "code",
   "execution_count": 39,
   "metadata": {},
   "outputs": [],
   "source": [
    "model = Seq2SeqModel(encoder_decoder_type=\"bart\", encoder_decoder_name=model_path)"
   ]
  },
  {
   "cell_type": "code",
   "execution_count": 40,
   "metadata": {},
   "outputs": [
    {
     "data": {
      "application/vnd.jupyter.widget-view+json": {
       "model_id": "45ab1d417e2a42d7933432f927e0e41a",
       "version_major": 2,
       "version_minor": 0
      },
      "text/plain": [
       "Generating outputs:   0%|          | 0/66 [00:00<?, ?it/s]"
      ]
     },
     "metadata": {},
     "output_type": "display_data"
    },
    {
     "data": {
      "application/vnd.jupyter.widget-view+json": {
       "model_id": "1ab2be9cba0b4ae1b5135fde488dd34e",
       "version_major": 2,
       "version_minor": 0
      },
      "text/plain": [
       "VBox(children=(HBox(children=(IntProgress(value=0, description='0.00%', max=527), Label(value='0 / 527'))), HB…"
      ]
     },
     "metadata": {},
     "output_type": "display_data"
    }
   ],
   "source": [
    "\n",
    "predict = model.predict(to_predict)\n",
    "predict = pd.Series(predict).parallel_apply(lambda x: x.lower()).tolist()\n",
    "np.savetxt(pred_1percent_path, predict, fmt='%s')"
   ]
  },
  {
   "cell_type": "code",
   "execution_count": 41,
   "metadata": {},
   "outputs": [],
   "source": [
    "np.savetxt(true_1percent_path, to_predict, fmt='%s', encoding=\"utf-8\")\n",
    "np.savetxt(target_1percent_path, target, fmt='%s', encoding=\"utf-8\")"
   ]
  },
  {
   "cell_type": "code",
   "execution_count": 42,
   "metadata": {},
   "outputs": [
    {
     "name": "stderr",
     "output_type": "stream",
     "text": [
      "Using default facebook/roberta-hate-speech-dynabench-r4-target checkpoint\n"
     ]
    }
   ],
   "source": [
    "toxicity = evaluate.load(\"toxicity\", module_type=\"measurement\")\n",
    "pred_toxicity= toxicity.compute(predictions=predict)\n",
    "pred_toxicity = pred_toxicity[\"toxicity\"]"
   ]
  },
  {
   "cell_type": "code",
   "execution_count": 43,
   "metadata": {},
   "outputs": [],
   "source": [
    "true_toxicity = toxicity.compute(predictions=to_predict)\n",
    "true_toxicity = true_toxicity[\"toxicity\"]"
   ]
  },
  {
   "cell_type": "code",
   "execution_count": 44,
   "metadata": {},
   "outputs": [],
   "source": [
    "target_toxicity = toxicity.compute(predictions=target)\n",
    "target_toxicity = target_toxicity[\"toxicity\"]"
   ]
  },
  {
   "cell_type": "code",
   "execution_count": 46,
   "metadata": {},
   "outputs": [],
   "source": [
    "stats = pd.DataFrame({\"pred_tox\": pred_toxicity,\n",
    "                      \"true_tox\": true_toxicity,\n",
    "                      \"target_tox\": target_toxicity,\n",
    "                      \"pred_sent\": predict,\n",
    "                      \"true_sent\": to_predict,\n",
    "                      \"target_sent\": target})\n",
    "stats.to_paruet(stats_path)"
   ]
  },
  {
   "cell_type": "code",
   "execution_count": 52,
   "metadata": {},
   "outputs": [
    {
     "data": {
      "text/plain": [
       "<seaborn.axisgrid.FacetGrid at 0x269b8add650>"
      ]
     },
     "execution_count": 52,
     "metadata": {},
     "output_type": "execute_result"
    },
    {
     "data": {
      "image/png": "[encoded data removed]",
      "text/plain": [
       "<Figure size 500x500 with 1 Axes>"
      ]
     },
     "metadata": {},
     "output_type": "display_data"
    }
   ],
   "source": [
    "import seaborn as sns\n",
    "sns.displot((stats[\"target_tox\"] - stats[\"pred_tox\"]).sort_values());"
   ]
  }
 ],
 "metadata": {
  "kernelspec": {
   "display_name": "Python 3",
   "language": "python",
   "name": "python3"
  },
  "language_info": {
   "codemirror_mode": {
    "name": "ipython",
    "version": 3
   },
   "file_extension": ".py",
   "mimetype": "text/x-python",
   "name": "python",
   "nbconvert_exporter": "python",
   "pygments_lexer": "ipython3",
   "version": "3.11.6"
  }
 },
 "nbformat": 4,
 "nbformat_minor": 2
}
