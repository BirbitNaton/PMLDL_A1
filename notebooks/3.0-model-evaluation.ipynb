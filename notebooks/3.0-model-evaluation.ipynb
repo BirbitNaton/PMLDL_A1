{
 "cells": [
  {
   "cell_type": "code",
   "execution_count": 9,
   "metadata": {},
   "outputs": [
    {
     "name": "stdout",
     "output_type": "stream",
     "text": [
      "INFO: Pandarallel will run on 8 workers.\n",
      "INFO: Pandarallel will use standard multiprocessing data transfer (pipe) to transfer data between the main process and workers.\n",
      "\n",
      "WARNING: You are on Windows. If you detect any issue with pandarallel, be sure you checked out the Troubleshooting page:\n",
      "https://nalepae.github.io/pandarallel/troubleshooting/\n"
     ]
    }
   ],
   "source": [
    "import logging\n",
    "import pandas as pd\n",
    "from simpletransformers.seq2seq import Seq2SeqModel, Seq2SeqArgs\n",
    "from pandarallel import pandarallel\n",
    "pandarallel.initialize(progress_bar=True)\n",
    "import warnings\n",
    "from transformers import AutoModelForSequenceClassification, AutoTokenizer, \\\n",
    "    RobertaTokenizer, RobertaForSequenceClassification\n",
    "import evaluate\n",
    "from tqdm.auto import tqdm\n",
    "import torch\n",
    "import numpy as np\n",
    "from sklearn.metrics import mean_squared_error\n",
    "from pathlib import Path\n",
    "\n",
    "warnings.filterwarnings(\"ignore\")\n",
    "data_dir = Path(\"../data/interim\")\n",
    "models_dir = Path(\"../models\")\n",
    "\n",
    "model_path = models_dir / \"bart-paraphrase-retrained\"\n",
    "dataset_path = data_dir / \"formatted.parquet\"\n",
    "pred_1percent_path = data_dir / \"pred_1percent.txt\"\n",
    "true_1percent_path = data_dir / \"true_1percent.txt\"\n",
    "target_1percent_path = data_dir / \"target_1percent.txt\"\n",
    "stats_path = data_dir / \"eval_stats.parquet\""
   ]
  },
  {
   "cell_type": "code",
   "execution_count": 10,
   "metadata": {},
   "outputs": [
    {
     "data": {
      "application/vnd.jupyter.widget-view+json": {
       "model_id": "910ebe62ed1241b0a6e13ba8767b6c14",
       "version_major": 2,
       "version_minor": 0
      },
      "text/plain": [
       "VBox(children=(HBox(children=(IntProgress(value=0, description='0.00%', max=579), Label(value='0 / 579'))), HB…"
      ]
     },
     "metadata": {},
     "output_type": "display_data"
    },
    {
     "data": {
      "application/vnd.jupyter.widget-view+json": {
       "model_id": "53e6deed3f0a4ef39488af8a8461df23",
       "version_major": 2,
       "version_minor": 0
      },
      "text/plain": [
       "VBox(children=(HBox(children=(IntProgress(value=0, description='0.00%', max=579), Label(value='0 / 579'))), HB…"
      ]
     },
     "metadata": {},
     "output_type": "display_data"
    },
    {
     "data": {
      "text/html": [
       "<div>\n",
       "<style scoped>\n",
       "    .dataframe tbody tr th:only-of-type {\n",
       "        vertical-align: middle;\n",
       "    }\n",
       "\n",
       "    .dataframe tbody tr th {\n",
       "        vertical-align: top;\n",
       "    }\n",
       "\n",
       "    .dataframe thead th {\n",
       "        text-align: right;\n",
       "    }\n",
       "</style>\n",
       "<table border=\"1\" class=\"dataframe\">\n",
       "  <thead>\n",
       "    <tr style=\"text-align: right;\">\n",
       "      <th></th>\n",
       "      <th>Unnamed: 0</th>\n",
       "      <th>reference</th>\n",
       "      <th>translation</th>\n",
       "      <th>similarity</th>\n",
       "      <th>lenght_diff</th>\n",
       "      <th>ref_tox</th>\n",
       "      <th>trn_tox</th>\n",
       "      <th>tox_diff</th>\n",
       "      <th>fit_score</th>\n",
       "    </tr>\n",
       "  </thead>\n",
       "  <tbody>\n",
       "    <tr>\n",
       "      <th>0</th>\n",
       "      <td>194059</td>\n",
       "      <td>Hands on the fucking table!</td>\n",
       "      <td>hands on the table!</td>\n",
       "      <td>0.949878</td>\n",
       "      <td>0.285714</td>\n",
       "      <td>0.999351</td>\n",
       "      <td>0.000047</td>\n",
       "      <td>0.999304</td>\n",
       "      <td>0.949216</td>\n",
       "    </tr>\n",
       "    <tr>\n",
       "      <th>1</th>\n",
       "      <td>566611</td>\n",
       "      <td>Ha ha ha... shit!</td>\n",
       "      <td>ha ha ha...</td>\n",
       "      <td>0.949609</td>\n",
       "      <td>0.333333</td>\n",
       "      <td>0.999633</td>\n",
       "      <td>0.000067</td>\n",
       "      <td>0.999566</td>\n",
       "      <td>0.949197</td>\n",
       "    </tr>\n",
       "    <tr>\n",
       "      <th>2</th>\n",
       "      <td>401254</td>\n",
       "      <td>Finally something good about this fucking dise...</td>\n",
       "      <td>finally, something good about this disease.</td>\n",
       "      <td>0.949981</td>\n",
       "      <td>0.137255</td>\n",
       "      <td>0.999520</td>\n",
       "      <td>0.000354</td>\n",
       "      <td>0.999166</td>\n",
       "      <td>0.949189</td>\n",
       "    </tr>\n",
       "    <tr>\n",
       "      <th>3</th>\n",
       "      <td>207219</td>\n",
       "      <td>a picture of a pyramid star and their fucking ...</td>\n",
       "      <td>Picture of a Pyramid star and their fracking t...</td>\n",
       "      <td>0.949892</td>\n",
       "      <td>0.016949</td>\n",
       "      <td>0.999298</td>\n",
       "      <td>0.000057</td>\n",
       "      <td>0.999241</td>\n",
       "      <td>0.949171</td>\n",
       "    </tr>\n",
       "    <tr>\n",
       "      <th>4</th>\n",
       "      <td>303258</td>\n",
       "      <td>Take your fucking shirt off.</td>\n",
       "      <td>take your shirt off.</td>\n",
       "      <td>0.949953</td>\n",
       "      <td>0.275862</td>\n",
       "      <td>0.999497</td>\n",
       "      <td>0.000344</td>\n",
       "      <td>0.999153</td>\n",
       "      <td>0.949149</td>\n",
       "    </tr>\n",
       "    <tr>\n",
       "      <th>...</th>\n",
       "      <td>...</td>\n",
       "      <td>...</td>\n",
       "      <td>...</td>\n",
       "      <td>...</td>\n",
       "      <td>...</td>\n",
       "      <td>...</td>\n",
       "      <td>...</td>\n",
       "      <td>...</td>\n",
       "      <td>...</td>\n",
       "    </tr>\n",
       "    <tr>\n",
       "      <th>463207</th>\n",
       "      <td>100001</td>\n",
       "      <td>On one bitter winter day you use said ax to be...</td>\n",
       "      <td>one chilly winter day with that axe you cut of...</td>\n",
       "      <td>0.618843</td>\n",
       "      <td>0.093750</td>\n",
       "      <td>0.910227</td>\n",
       "      <td>0.062810</td>\n",
       "      <td>0.847418</td>\n",
       "      <td>0.524419</td>\n",
       "    </tr>\n",
       "    <tr>\n",
       "      <th>463208</th>\n",
       "      <td>496723</td>\n",
       "      <td>and then the crazy robot with the bomb came.</td>\n",
       "      <td>And that's when that crazy robo killer flying ...</td>\n",
       "      <td>0.627935</td>\n",
       "      <td>0.357143</td>\n",
       "      <td>0.931676</td>\n",
       "      <td>0.096536</td>\n",
       "      <td>0.835141</td>\n",
       "      <td>0.524414</td>\n",
       "    </tr>\n",
       "    <tr>\n",
       "      <th>463209</th>\n",
       "      <td>362888</td>\n",
       "      <td>And this time things are gonna end differently...</td>\n",
       "      <td>but this time, the duel will be different, you...</td>\n",
       "      <td>0.626956</td>\n",
       "      <td>0.086957</td>\n",
       "      <td>0.882351</td>\n",
       "      <td>0.045935</td>\n",
       "      <td>0.836416</td>\n",
       "      <td>0.524396</td>\n",
       "    </tr>\n",
       "    <tr>\n",
       "      <th>463210</th>\n",
       "      <td>162186</td>\n",
       "      <td>To crap all over my new life?</td>\n",
       "      <td>to make my life miserable?</td>\n",
       "      <td>0.645105</td>\n",
       "      <td>0.100000</td>\n",
       "      <td>0.830504</td>\n",
       "      <td>0.017620</td>\n",
       "      <td>0.812884</td>\n",
       "      <td>0.524396</td>\n",
       "    </tr>\n",
       "    <tr>\n",
       "      <th>463211</th>\n",
       "      <td>332615</td>\n",
       "      <td>the entire Earth will be sterilized.</td>\n",
       "      <td>The entire Earth's been sterilised.</td>\n",
       "      <td>0.657262</td>\n",
       "      <td>0.027027</td>\n",
       "      <td>0.812214</td>\n",
       "      <td>0.014381</td>\n",
       "      <td>0.797833</td>\n",
       "      <td>0.524385</td>\n",
       "    </tr>\n",
       "  </tbody>\n",
       "</table>\n",
       "<p>463212 rows × 9 columns</p>\n",
       "</div>"
      ],
      "text/plain": [
       "        Unnamed: 0                                          reference  \\\n",
       "0           194059                        Hands on the fucking table!   \n",
       "1           566611                                  Ha ha ha... shit!   \n",
       "2           401254  Finally something good about this fucking dise...   \n",
       "3           207219  a picture of a pyramid star and their fucking ...   \n",
       "4           303258                       Take your fucking shirt off.   \n",
       "...            ...                                                ...   \n",
       "463207      100001  On one bitter winter day you use said ax to be...   \n",
       "463208      496723       and then the crazy robot with the bomb came.   \n",
       "463209      362888  And this time things are gonna end differently...   \n",
       "463210      162186                      To crap all over my new life?   \n",
       "463211      332615               the entire Earth will be sterilized.   \n",
       "\n",
       "                                              translation  similarity  \\\n",
       "0                                     hands on the table!    0.949878   \n",
       "1                                             ha ha ha...    0.949609   \n",
       "2             finally, something good about this disease.    0.949981   \n",
       "3       Picture of a Pyramid star and their fracking t...    0.949892   \n",
       "4                                    take your shirt off.    0.949953   \n",
       "...                                                   ...         ...   \n",
       "463207  one chilly winter day with that axe you cut of...    0.618843   \n",
       "463208  And that's when that crazy robo killer flying ...    0.627935   \n",
       "463209  but this time, the duel will be different, you...    0.626956   \n",
       "463210                         to make my life miserable?    0.645105   \n",
       "463211                The entire Earth's been sterilised.    0.657262   \n",
       "\n",
       "        lenght_diff   ref_tox   trn_tox  tox_diff  fit_score  \n",
       "0          0.285714  0.999351  0.000047  0.999304   0.949216  \n",
       "1          0.333333  0.999633  0.000067  0.999566   0.949197  \n",
       "2          0.137255  0.999520  0.000354  0.999166   0.949189  \n",
       "3          0.016949  0.999298  0.000057  0.999241   0.949171  \n",
       "4          0.275862  0.999497  0.000344  0.999153   0.949149  \n",
       "...             ...       ...       ...       ...        ...  \n",
       "463207     0.093750  0.910227  0.062810  0.847418   0.524419  \n",
       "463208     0.357143  0.931676  0.096536  0.835141   0.524414  \n",
       "463209     0.086957  0.882351  0.045935  0.836416   0.524396  \n",
       "463210     0.100000  0.830504  0.017620  0.812884   0.524396  \n",
       "463211     0.027027  0.812214  0.014381  0.797833   0.524385  \n",
       "\n",
       "[463212 rows x 9 columns]"
      ]
     },
     "execution_count": 10,
     "metadata": {},
     "output_type": "execute_result"
    }
   ],
   "source": [
    "df = pd.read_parquet(dataset_path)\n",
    "index = df.sample(frac=0.01, random_state=42).index\n",
    "to_predict = df[\"reference\"][index].parallel_apply(lambda x: x.lower()).tolist()\n",
    "target = df[\"translation\"][index].parallel_apply(lambda x: x.lower()).tolist()\n",
    "df"
   ]
  },
  {
   "cell_type": "code",
   "execution_count": 11,
   "metadata": {},
   "outputs": [],
   "source": [
    "model = Seq2SeqModel(encoder_decoder_type=\"bart\", encoder_decoder_name=model_path)"
   ]
  },
  {
   "cell_type": "code",
   "execution_count": 13,
   "metadata": {},
   "outputs": [
    {
     "data": {
      "application/vnd.jupyter.widget-view+json": {
       "model_id": "9f74fc567fb34926aa4a2c198e40fdec",
       "version_major": 2,
       "version_minor": 0
      },
      "text/plain": [
       "Generating outputs:   0%|          | 0/73 [00:00<?, ?it/s]"
      ]
     },
     "metadata": {},
     "output_type": "display_data"
    },
    {
     "data": {
      "application/vnd.jupyter.widget-view+json": {
       "model_id": "1682d3be2da24103ae19ff2d1f2d39b1",
       "version_major": 2,
       "version_minor": 0
      },
      "text/plain": [
       "VBox(children=(HBox(children=(IntProgress(value=0, description='0.00%', max=579), Label(value='0 / 579'))), HB…"
      ]
     },
     "metadata": {},
     "output_type": "display_data"
    }
   ],
   "source": [
    "\n",
    "predict = model.predict(to_predict)\n",
    "predict = pd.Series(predict).parallel_apply(lambda x: x.lower()).tolist()\n",
    "np.savetxt(pred_1percent_path, predict, fmt='%s', encoding=\"utf-8\")"
   ]
  },
  {
   "cell_type": "code",
   "execution_count": 14,
   "metadata": {},
   "outputs": [],
   "source": [
    "np.savetxt(true_1percent_path, to_predict, fmt='%s', encoding=\"utf-8\")\n",
    "np.savetxt(target_1percent_path, target, fmt='%s', encoding=\"utf-8\")"
   ]
  },
  {
   "cell_type": "code",
   "execution_count": 15,
   "metadata": {},
   "outputs": [
    {
     "name": "stderr",
     "output_type": "stream",
     "text": [
      "Using default facebook/roberta-hate-speech-dynabench-r4-target checkpoint\n"
     ]
    }
   ],
   "source": [
    "toxicity = evaluate.load(\"toxicity\", module_type=\"measurement\")\n",
    "pred_toxicity= toxicity.compute(predictions=predict)\n",
    "pred_toxicity = pred_toxicity[\"toxicity\"]"
   ]
  },
  {
   "cell_type": "code",
   "execution_count": 16,
   "metadata": {},
   "outputs": [],
   "source": [
    "true_toxicity = toxicity.compute(predictions=to_predict)\n",
    "true_toxicity = true_toxicity[\"toxicity\"]"
   ]
  },
  {
   "cell_type": "code",
   "execution_count": 17,
   "metadata": {},
   "outputs": [],
   "source": [
    "target_toxicity = toxicity.compute(predictions=target)\n",
    "target_toxicity = target_toxicity[\"toxicity\"]"
   ]
  },
  {
   "cell_type": "code",
   "execution_count": 19,
   "metadata": {},
   "outputs": [],
   "source": [
    "stats = pd.DataFrame({\"pred_tox\": pred_toxicity,\n",
    "                      \"true_tox\": true_toxicity,\n",
    "                      \"target_tox\": target_toxicity,\n",
    "                      \"pred_sent\": predict,\n",
    "                      \"true_sent\": to_predict,\n",
    "                      \"target_sent\": target})\n",
    "stats.to_parquet(stats_path)"
   ]
  },
  {
   "cell_type": "code",
   "execution_count": 20,
   "metadata": {},
   "outputs": [],
   "source": [
    "stats = pd.read_parquet(stats_path)"
   ]
  },
  {
   "cell_type": "code",
   "execution_count": 22,
   "metadata": {},
   "outputs": [
    {
     "data": {
      "image/png": "[encoded data removed]",
      "text/plain": [
       "<Figure size 500x500 with 1 Axes>"
      ]
     },
     "metadata": {},
     "output_type": "display_data"
    }
   ],
   "source": [
    "import seaborn as sns\n",
    "from matplotlib import pyplot as plt\n",
    "\n",
    "figures_dir = Path(\"../reports/figures\")\n",
    "\n",
    "plot = sns.displot((stats[\"target_tox\"] - stats[\"pred_tox\"]).sort_values())\n",
    "title = \"Prediction loss to target\"\n",
    "plt.title(title)\n",
    "\n",
    "plot.figure.savefig(figures_dir / (title + \".png\"))"
   ]
  },
  {
   "cell_type": "code",
   "execution_count": null,
   "metadata": {},
   "outputs": [],
   "source": []
  }
 ],
 "metadata": {
  "kernelspec": {
   "display_name": "Python 3",
   "language": "python",
   "name": "python3"
  },
  "language_info": {
   "codemirror_mode": {
    "name": "ipython",
    "version": 3
   },
   "file_extension": ".py",
   "mimetype": "text/x-python",
   "name": "python",
   "nbconvert_exporter": "python",
   "pygments_lexer": "ipython3",
   "version": "3.11.6"
  }
 },
 "nbformat": 4,
 "nbformat_minor": 2
}
